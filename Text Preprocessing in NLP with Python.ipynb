{
 "cells": [
  {
   "cell_type": "markdown",
   "id": "f7ebcf24-7479-40f5-8702-ccd06ee9718d",
   "metadata": {},
   "source": [
    "## Text Preprocessing in NLP with Python"
   ]
  },
  {
   "cell_type": "code",
   "execution_count": 6,
   "id": "65eba600-9b60-465c-9351-3e5dc1d20fad",
   "metadata": {},
   "outputs": [],
   "source": [
    "from bs4 import BeautifulSoup\n",
    "import spacy\n",
    "import unidecode\n",
    "from word2number import w2n\n",
    "import contractions\n",
    "import string\n",
    "string.punctuation\n",
    "import re"
   ]
  },
  {
   "cell_type": "code",
   "execution_count": 11,
   "id": "851b7672-e103-4159-9576-1017f2fba245",
   "metadata": {},
   "outputs": [],
   "source": [
    "input = open(\"NLP for Uzbek/test_text.txt\", 'r', encoding=\"utf8\")\n",
    "df = input.read()"
   ]
  },
  {
   "cell_type": "code",
   "execution_count": 12,
   "id": "86cd110b-7814-4198-b917-8510bf495f2a",
   "metadata": {},
   "outputs": [
    {
     "data": {
      "text/plain": [
       "\"'«NBU-Osiyo» — «Metallurg» 0:3 (0:2). Gollar: Mirzakamol Kamolov (14), Abdulloh Olimov (51, 88), Humoyun Murtazoyev (52), Shahzod Shaymanov (83). «Andijon» — «Neftchi» 1:1 (0:0). Chetlatishlar: Ibrohim Otaxonov (79) — Muzaffar Muzaffarov (85). «Navbahor» — «Xorazm» 5:0 (1:0). «Surxon» — «Qo\\\\\\\\\\\\'qon-1912» 0:2 (0:1). Yevropada saralash o\\\\\\\\\\\\'yinlari davom ettirildi . Yevropa mintaqasida JCh-2018 yilda Rossiyada bo\\\\\\\\\\\\'lib o\\\\\\\\\\\\'tadigan jahon chempionatiga saralash bosqichi beshinchi tur uchrashuvlari davom etmoqda. Kunning birinchi qismidan o\\\\\\\\\\\\'rin olgan beshta uchrashuv nihoyasiga yetdi. Bosniya terma jamoasi UYeFAning so\\\\\\\\\\\\'nggi a\\\\\\\\\\\\'zolaridan biri Gibraltar terma jamoasini qabul qilib, javobsiz 5ta to\\\\\\\\\\\\'p kiritgan bo\\\\\\\\\\\\'lsa, Shvesiya Belarus darvozasini 4 bor aniq nishonga oldi. Shuningdek, Shveysariya og\\\\\\\\\\\\'ir kechgan uchrashuvda Latviyadan ustun keldi. Yana ikki uchrashuvda durang natijasi qayd etildi. JCh-2018, saralash bosqichi, Yevropa mintaqasi. Gollar: Ibishevich (4, 43), Vrshayevich (52), Vishcha (56), Bichakchich (90). Ogohlantirish: Kolashinas (18). Ogohlantirishlar: Vasilyev (68), Laban (78). Shveysariya – Latviya 1:0 (0:0). Ogohlantirishlar: Lazdinsh (28), Fernandes (48), Sher (51), Freymanis (53). Ogohlantirish: Martinovich (25). Shavkat Mirziyoyev yangi Chevrolet Malibu avtomobilida shahar aylandi. O\\\\\\\\\\\\'zbekiston Respublikasi Prezidenti Shavkat Mirziyoyev respublikada ishlab chiqariladigan Chevrolet Malibu avtomashinasini boshqarishni xush ko\\\\\\\\\\\\'rishi tasdiqlandi. Davlat rahbari 25 mart kuni Toshkent shahridagi qurilishi tugallangan va rejalashtirilayotgan inshootlarni borib ko\\\\\\\\\\\\'rdi. U Yunusobod tumanida qisqa fursatda qurilib, foydalanishga topshirilgan ko\\\\\\\\\\\\'prikka Chevrolet Malibu avtomobilining yangi namunasida tashrif buyurdi. Eslatib o\\\\\\\\\\\\'tamiz, Shavkat Mirziyoyev qirg\\\\\\\\\\\\'izistonlik hamkasbi Almazbek Atambayevning Samarqandga tashrifi chog\\\\\\\\\\\\'ida GM Uzbekistan kompaniyasi mahsulotlarini tanishtirar ekan, dam olish kunlari Chevrolet Malibu avtomobilini haydashini aytgan edi. Mourino nima sababdan Xorvatiya — Ukraina uchrashuviga borganini aytdi. «Manchester Yunayted» bosh murabbiyi Joze Mourino, JCh-2018 saralash bosqichi doirasidagi Xorvatiya — Ukraina uchrashuviga (1:0) nima sababdan tashrif buyurgani sababini oshkor qildi. «Uchrashuvga tashrif buyurishimning hech qanday sirli tomoni yo\\\\\\\\\\\\'q. Shunchaki dam olish kunlarini mazmunli o\\\\\\\\\\\\'tkazish uchun Predrag Miyatovich va Davor Shuker kabi do\\\\\\\\\\\\'stlarimni ko\\\\\\\\\\\\'rgani bordim. Ko\\\\\\\\\\\\'pchilik bunaqa tashrifni biror-bir aniq futbolchini kuzatish uchun kelgan deb hisoblashini yaxshi bilaman. Ammo bugungi kunda biror futbolchini kuzatish uchun, begona yurtga borib yurishning hojati yo\\\\\\\\\\\\'q. Men shundoq ham ularni yaxshi bilaman. Men Zagreb shunchaki Manchesterning yomg\\\\\\\\\\\\'irli ob-havosidan so\\\\\\\\\\\\'ng, yaxshi iqlim sharoitidan zavq olish uchungina tashrif buyurdim», — degan Mourino HNTV telekanaliga bergan intervyusida.\""
      ]
     },
     "execution_count": 12,
     "metadata": {},
     "output_type": "execute_result"
    }
   ],
   "source": [
    "df"
   ]
  },
  {
   "cell_type": "markdown",
   "id": "3b34a1ff-d0d2-4e3f-b021-0a43a0025e52",
   "metadata": {},
   "source": [
    "## 1. Remove HTML tags"
   ]
  },
  {
   "cell_type": "code",
   "execution_count": 13,
   "id": "f1346c40-5a6b-4607-b3ba-b6125351d1f5",
   "metadata": {},
   "outputs": [],
   "source": [
    "def strip_html_tags(text):\n",
    "    \"\"\"remove html tags from text\"\"\"\n",
    "    soup = BeautifulSoup(text, \"html.parser\")\n",
    "    stripped_text = soup.get_text(separator=\" \")\n",
    "    return stripped_text"
   ]
  },
  {
   "cell_type": "code",
   "execution_count": 14,
   "id": "c8b8ee77-b584-4a70-9c2e-279a0403c830",
   "metadata": {},
   "outputs": [],
   "source": [
    "df1 = strip_html_tags(df)"
   ]
  },
  {
   "cell_type": "code",
   "execution_count": 15,
   "id": "0d6fe1c7-7a58-4913-a4c7-71793e01b45e",
   "metadata": {},
   "outputs": [
    {
     "data": {
      "text/plain": [
       "\"'«NBU-Osiyo» — «Metallurg» 0:3 (0:2). Gollar: Mirzakamol Kamolov (14), Abdulloh Olimov (51, 88), Humoyun Murtazoyev (52), Shahzod Shaymanov (83). «Andijon» — «Neftchi» 1:1 (0:0). Chetlatishlar: Ibrohim Otaxonov (79) — Muzaffar Muzaffarov (85). «Navbahor» — «Xorazm» 5:0 (1:0). «Surxon» — «Qo\\\\\\\\\\\\'qon-1912» 0:2 (0:1). Yevropada saralash o\\\\\\\\\\\\'yinlari davom ettirildi . Yevropa mintaqasida JCh-2018 yilda Rossiyada bo\\\\\\\\\\\\'lib o\\\\\\\\\\\\'tadigan jahon chempionatiga saralash bosqichi beshinchi tur uchrashuvlari davom etmoqda. Kunning birinchi qismidan o\\\\\\\\\\\\'rin olgan beshta uchrashuv nihoyasiga yetdi. Bosniya terma jamoasi UYeFAning so\\\\\\\\\\\\'nggi a\\\\\\\\\\\\'zolaridan biri Gibraltar terma jamoasini qabul qilib, javobsiz 5ta to\\\\\\\\\\\\'p kiritgan bo\\\\\\\\\\\\'lsa, Shvesiya Belarus darvozasini 4 bor aniq nishonga oldi. Shuningdek, Shveysariya og\\\\\\\\\\\\'ir kechgan uchrashuvda Latviyadan ustun keldi. Yana ikki uchrashuvda durang natijasi qayd etildi. JCh-2018, saralash bosqichi, Yevropa mintaqasi. Gollar: Ibishevich (4, 43), Vrshayevich (52), Vishcha (56), Bichakchich (90). Ogohlantirish: Kolashinas (18). Ogohlantirishlar: Vasilyev (68), Laban (78). Shveysariya – Latviya 1:0 (0:0). Ogohlantirishlar: Lazdinsh (28), Fernandes (48), Sher (51), Freymanis (53). Ogohlantirish: Martinovich (25). Shavkat Mirziyoyev yangi Chevrolet Malibu avtomobilida shahar aylandi. O\\\\\\\\\\\\'zbekiston Respublikasi Prezidenti Shavkat Mirziyoyev respublikada ishlab chiqariladigan Chevrolet Malibu avtomashinasini boshqarishni xush ko\\\\\\\\\\\\'rishi tasdiqlandi. Davlat rahbari 25 mart kuni Toshkent shahridagi qurilishi tugallangan va rejalashtirilayotgan inshootlarni borib ko\\\\\\\\\\\\'rdi. U Yunusobod tumanida qisqa fursatda qurilib, foydalanishga topshirilgan ko\\\\\\\\\\\\'prikka Chevrolet Malibu avtomobilining yangi namunasida tashrif buyurdi. Eslatib o\\\\\\\\\\\\'tamiz, Shavkat Mirziyoyev qirg\\\\\\\\\\\\'izistonlik hamkasbi Almazbek Atambayevning Samarqandga tashrifi chog\\\\\\\\\\\\'ida GM Uzbekistan kompaniyasi mahsulotlarini tanishtirar ekan, dam olish kunlari Chevrolet Malibu avtomobilini haydashini aytgan edi. Mourino nima sababdan Xorvatiya — Ukraina uchrashuviga borganini aytdi. «Manchester Yunayted» bosh murabbiyi Joze Mourino, JCh-2018 saralash bosqichi doirasidagi Xorvatiya — Ukraina uchrashuviga (1:0) nima sababdan tashrif buyurgani sababini oshkor qildi. «Uchrashuvga tashrif buyurishimning hech qanday sirli tomoni yo\\\\\\\\\\\\'q. Shunchaki dam olish kunlarini mazmunli o\\\\\\\\\\\\'tkazish uchun Predrag Miyatovich va Davor Shuker kabi do\\\\\\\\\\\\'stlarimni ko\\\\\\\\\\\\'rgani bordim. Ko\\\\\\\\\\\\'pchilik bunaqa tashrifni biror-bir aniq futbolchini kuzatish uchun kelgan deb hisoblashini yaxshi bilaman. Ammo bugungi kunda biror futbolchini kuzatish uchun, begona yurtga borib yurishning hojati yo\\\\\\\\\\\\'q. Men shundoq ham ularni yaxshi bilaman. Men Zagreb shunchaki Manchesterning yomg\\\\\\\\\\\\'irli ob-havosidan so\\\\\\\\\\\\'ng, yaxshi iqlim sharoitidan zavq olish uchungina tashrif buyurdim», — degan Mourino HNTV telekanaliga bergan intervyusida.\""
      ]
     },
     "execution_count": 15,
     "metadata": {},
     "output_type": "execute_result"
    }
   ],
   "source": [
    "df1"
   ]
  },
  {
   "cell_type": "markdown",
   "id": "368c0acf-eaa5-4d14-94e7-c5e15476bba0",
   "metadata": {},
   "source": [
    "## 2. Remove extra whitespaces"
   ]
  },
  {
   "cell_type": "code",
   "execution_count": 16,
   "id": "b4fce4b6-fcd2-4524-ab3d-a92b2a8165f2",
   "metadata": {},
   "outputs": [],
   "source": [
    "def remove_whitespace(text):\n",
    "    \"\"\"remove extra whitespaces from text\"\"\"\n",
    "    text = text.strip()\n",
    "    return \" \".join(text.split())"
   ]
  },
  {
   "cell_type": "code",
   "execution_count": 17,
   "id": "a59718c2-64a0-404d-9b12-384a7f82e2d4",
   "metadata": {},
   "outputs": [],
   "source": [
    "df2 = remove_whitespace(df1)"
   ]
  },
  {
   "cell_type": "code",
   "execution_count": 18,
   "id": "d8d98eed-e075-47ce-bf2c-6866866f0c5c",
   "metadata": {},
   "outputs": [
    {
     "data": {
      "text/plain": [
       "\"'«NBU-Osiyo» — «Metallurg» 0:3 (0:2). Gollar: Mirzakamol Kamolov (14), Abdulloh Olimov (51, 88), Humoyun Murtazoyev (52), Shahzod Shaymanov (83). «Andijon» — «Neftchi» 1:1 (0:0). Chetlatishlar: Ibrohim Otaxonov (79) — Muzaffar Muzaffarov (85). «Navbahor» — «Xorazm» 5:0 (1:0). «Surxon» — «Qo\\\\\\\\\\\\'qon-1912» 0:2 (0:1). Yevropada saralash o\\\\\\\\\\\\'yinlari davom ettirildi . Yevropa mintaqasida JCh-2018 yilda Rossiyada bo\\\\\\\\\\\\'lib o\\\\\\\\\\\\'tadigan jahon chempionatiga saralash bosqichi beshinchi tur uchrashuvlari davom etmoqda. Kunning birinchi qismidan o\\\\\\\\\\\\'rin olgan beshta uchrashuv nihoyasiga yetdi. Bosniya terma jamoasi UYeFAning so\\\\\\\\\\\\'nggi a\\\\\\\\\\\\'zolaridan biri Gibraltar terma jamoasini qabul qilib, javobsiz 5ta to\\\\\\\\\\\\'p kiritgan bo\\\\\\\\\\\\'lsa, Shvesiya Belarus darvozasini 4 bor aniq nishonga oldi. Shuningdek, Shveysariya og\\\\\\\\\\\\'ir kechgan uchrashuvda Latviyadan ustun keldi. Yana ikki uchrashuvda durang natijasi qayd etildi. JCh-2018, saralash bosqichi, Yevropa mintaqasi. Gollar: Ibishevich (4, 43), Vrshayevich (52), Vishcha (56), Bichakchich (90). Ogohlantirish: Kolashinas (18). Ogohlantirishlar: Vasilyev (68), Laban (78). Shveysariya – Latviya 1:0 (0:0). Ogohlantirishlar: Lazdinsh (28), Fernandes (48), Sher (51), Freymanis (53). Ogohlantirish: Martinovich (25). Shavkat Mirziyoyev yangi Chevrolet Malibu avtomobilida shahar aylandi. O\\\\\\\\\\\\'zbekiston Respublikasi Prezidenti Shavkat Mirziyoyev respublikada ishlab chiqariladigan Chevrolet Malibu avtomashinasini boshqarishni xush ko\\\\\\\\\\\\'rishi tasdiqlandi. Davlat rahbari 25 mart kuni Toshkent shahridagi qurilishi tugallangan va rejalashtirilayotgan inshootlarni borib ko\\\\\\\\\\\\'rdi. U Yunusobod tumanida qisqa fursatda qurilib, foydalanishga topshirilgan ko\\\\\\\\\\\\'prikka Chevrolet Malibu avtomobilining yangi namunasida tashrif buyurdi. Eslatib o\\\\\\\\\\\\'tamiz, Shavkat Mirziyoyev qirg\\\\\\\\\\\\'izistonlik hamkasbi Almazbek Atambayevning Samarqandga tashrifi chog\\\\\\\\\\\\'ida GM Uzbekistan kompaniyasi mahsulotlarini tanishtirar ekan, dam olish kunlari Chevrolet Malibu avtomobilini haydashini aytgan edi. Mourino nima sababdan Xorvatiya — Ukraina uchrashuviga borganini aytdi. «Manchester Yunayted» bosh murabbiyi Joze Mourino, JCh-2018 saralash bosqichi doirasidagi Xorvatiya — Ukraina uchrashuviga (1:0) nima sababdan tashrif buyurgani sababini oshkor qildi. «Uchrashuvga tashrif buyurishimning hech qanday sirli tomoni yo\\\\\\\\\\\\'q. Shunchaki dam olish kunlarini mazmunli o\\\\\\\\\\\\'tkazish uchun Predrag Miyatovich va Davor Shuker kabi do\\\\\\\\\\\\'stlarimni ko\\\\\\\\\\\\'rgani bordim. Ko\\\\\\\\\\\\'pchilik bunaqa tashrifni biror-bir aniq futbolchini kuzatish uchun kelgan deb hisoblashini yaxshi bilaman. Ammo bugungi kunda biror futbolchini kuzatish uchun, begona yurtga borib yurishning hojati yo\\\\\\\\\\\\'q. Men shundoq ham ularni yaxshi bilaman. Men Zagreb shunchaki Manchesterning yomg\\\\\\\\\\\\'irli ob-havosidan so\\\\\\\\\\\\'ng, yaxshi iqlim sharoitidan zavq olish uchungina tashrif buyurdim», — degan Mourino HNTV telekanaliga bergan intervyusida.\""
      ]
     },
     "execution_count": 18,
     "metadata": {},
     "output_type": "execute_result"
    }
   ],
   "source": [
    "df2"
   ]
  },
  {
   "cell_type": "markdown",
   "id": "2aa0993d-0e6a-4bec-867c-ffad0bc878a7",
   "metadata": {},
   "source": [
    "## 3. Convert accented characters to ASCII characters"
   ]
  },
  {
   "cell_type": "code",
   "execution_count": 19,
   "id": "bf886207-4728-4779-b86e-8fdf9003d37e",
   "metadata": {},
   "outputs": [],
   "source": [
    "def remove_accented_chars(text):\n",
    "    \"\"\"remove accented characters from text, e.g. café\"\"\"\n",
    "    text = unidecode.unidecode(text)\n",
    "    return text"
   ]
  },
  {
   "cell_type": "code",
   "execution_count": 20,
   "id": "d6a939d8-d5b4-4e95-bbfe-3fe67a6b1c63",
   "metadata": {},
   "outputs": [],
   "source": [
    "df3 = remove_accented_chars(df2)"
   ]
  },
  {
   "cell_type": "code",
   "execution_count": 21,
   "id": "dcb00fb3-ee73-4e0a-968b-0f8d84ca3825",
   "metadata": {},
   "outputs": [
    {
     "data": {
      "text/plain": [
       "\"'<<NBU-Osiyo>> -- <<Metallurg>> 0:3 (0:2). Gollar: Mirzakamol Kamolov (14), Abdulloh Olimov (51, 88), Humoyun Murtazoyev (52), Shahzod Shaymanov (83). <<Andijon>> -- <<Neftchi>> 1:1 (0:0). Chetlatishlar: Ibrohim Otaxonov (79) -- Muzaffar Muzaffarov (85). <<Navbahor>> -- <<Xorazm>> 5:0 (1:0). <<Surxon>> -- <<Qo\\\\\\\\\\\\'qon-1912>> 0:2 (0:1). Yevropada saralash o\\\\\\\\\\\\'yinlari davom ettirildi . Yevropa mintaqasida JCh-2018 yilda Rossiyada bo\\\\\\\\\\\\'lib o\\\\\\\\\\\\'tadigan jahon chempionatiga saralash bosqichi beshinchi tur uchrashuvlari davom etmoqda. Kunning birinchi qismidan o\\\\\\\\\\\\'rin olgan beshta uchrashuv nihoyasiga yetdi. Bosniya terma jamoasi UYeFAning so\\\\\\\\\\\\'nggi a\\\\\\\\\\\\'zolaridan biri Gibraltar terma jamoasini qabul qilib, javobsiz 5ta to\\\\\\\\\\\\'p kiritgan bo\\\\\\\\\\\\'lsa, Shvesiya Belarus darvozasini 4 bor aniq nishonga oldi. Shuningdek, Shveysariya og\\\\\\\\\\\\'ir kechgan uchrashuvda Latviyadan ustun keldi. Yana ikki uchrashuvda durang natijasi qayd etildi. JCh-2018, saralash bosqichi, Yevropa mintaqasi. Gollar: Ibishevich (4, 43), Vrshayevich (52), Vishcha (56), Bichakchich (90). Ogohlantirish: Kolashinas (18). Ogohlantirishlar: Vasilyev (68), Laban (78). Shveysariya - Latviya 1:0 (0:0). Ogohlantirishlar: Lazdinsh (28), Fernandes (48), Sher (51), Freymanis (53). Ogohlantirish: Martinovich (25). Shavkat Mirziyoyev yangi Chevrolet Malibu avtomobilida shahar aylandi. O\\\\\\\\\\\\'zbekiston Respublikasi Prezidenti Shavkat Mirziyoyev respublikada ishlab chiqariladigan Chevrolet Malibu avtomashinasini boshqarishni xush ko\\\\\\\\\\\\'rishi tasdiqlandi. Davlat rahbari 25 mart kuni Toshkent shahridagi qurilishi tugallangan va rejalashtirilayotgan inshootlarni borib ko\\\\\\\\\\\\'rdi. U Yunusobod tumanida qisqa fursatda qurilib, foydalanishga topshirilgan ko\\\\\\\\\\\\'prikka Chevrolet Malibu avtomobilining yangi namunasida tashrif buyurdi. Eslatib o\\\\\\\\\\\\'tamiz, Shavkat Mirziyoyev qirg\\\\\\\\\\\\'izistonlik hamkasbi Almazbek Atambayevning Samarqandga tashrifi chog\\\\\\\\\\\\'ida GM Uzbekistan kompaniyasi mahsulotlarini tanishtirar ekan, dam olish kunlari Chevrolet Malibu avtomobilini haydashini aytgan edi. Mourino nima sababdan Xorvatiya -- Ukraina uchrashuviga borganini aytdi. <<Manchester Yunayted>> bosh murabbiyi Joze Mourino, JCh-2018 saralash bosqichi doirasidagi Xorvatiya -- Ukraina uchrashuviga (1:0) nima sababdan tashrif buyurgani sababini oshkor qildi. <<Uchrashuvga tashrif buyurishimning hech qanday sirli tomoni yo\\\\\\\\\\\\'q. Shunchaki dam olish kunlarini mazmunli o\\\\\\\\\\\\'tkazish uchun Predrag Miyatovich va Davor Shuker kabi do\\\\\\\\\\\\'stlarimni ko\\\\\\\\\\\\'rgani bordim. Ko\\\\\\\\\\\\'pchilik bunaqa tashrifni biror-bir aniq futbolchini kuzatish uchun kelgan deb hisoblashini yaxshi bilaman. Ammo bugungi kunda biror futbolchini kuzatish uchun, begona yurtga borib yurishning hojati yo\\\\\\\\\\\\'q. Men shundoq ham ularni yaxshi bilaman. Men Zagreb shunchaki Manchesterning yomg\\\\\\\\\\\\'irli ob-havosidan so\\\\\\\\\\\\'ng, yaxshi iqlim sharoitidan zavq olish uchungina tashrif buyurdim>>, -- degan Mourino HNTV telekanaliga bergan intervyusida.\""
      ]
     },
     "execution_count": 21,
     "metadata": {},
     "output_type": "execute_result"
    }
   ],
   "source": [
    "df3"
   ]
  },
  {
   "cell_type": "markdown",
   "id": "d88ab0aa-4252-4fe0-89db-a4b93d80e7ca",
   "metadata": {},
   "source": [
    "## 4. Remove special characters"
   ]
  },
  {
   "cell_type": "code",
   "execution_count": 22,
   "id": "e4a36f86-2057-4b54-a5ba-983602674d9d",
   "metadata": {},
   "outputs": [],
   "source": [
    "def remove_punctuation(text):\n",
    "    punctuationfree=\"\".join([i for i in text if i not in string.punctuation])\n",
    "    return punctuationfree"
   ]
  },
  {
   "cell_type": "code",
   "execution_count": 23,
   "id": "ac1cd4c2-520a-4ba1-b8a4-03f288fe7623",
   "metadata": {},
   "outputs": [],
   "source": [
    "df4 = remove_punctuation(df3)"
   ]
  },
  {
   "cell_type": "code",
   "execution_count": 24,
   "id": "ebc8fdd6-e0eb-4ea5-a02b-b3844e8b970f",
   "metadata": {},
   "outputs": [
    {
     "data": {
      "text/plain": [
       "'NBUOsiyo  Metallurg 03 02 Gollar Mirzakamol Kamolov 14 Abdulloh Olimov 51 88 Humoyun Murtazoyev 52 Shahzod Shaymanov 83 Andijon  Neftchi 11 00 Chetlatishlar Ibrohim Otaxonov 79  Muzaffar Muzaffarov 85 Navbahor  Xorazm 50 10 Surxon  Qoqon1912 02 01 Yevropada saralash oyinlari davom ettirildi  Yevropa mintaqasida JCh2018 yilda Rossiyada bolib otadigan jahon chempionatiga saralash bosqichi beshinchi tur uchrashuvlari davom etmoqda Kunning birinchi qismidan orin olgan beshta uchrashuv nihoyasiga yetdi Bosniya terma jamoasi UYeFAning songgi azolaridan biri Gibraltar terma jamoasini qabul qilib javobsiz 5ta top kiritgan bolsa Shvesiya Belarus darvozasini 4 bor aniq nishonga oldi Shuningdek Shveysariya ogir kechgan uchrashuvda Latviyadan ustun keldi Yana ikki uchrashuvda durang natijasi qayd etildi JCh2018 saralash bosqichi Yevropa mintaqasi Gollar Ibishevich 4 43 Vrshayevich 52 Vishcha 56 Bichakchich 90 Ogohlantirish Kolashinas 18 Ogohlantirishlar Vasilyev 68 Laban 78 Shveysariya  Latviya 10 00 Ogohlantirishlar Lazdinsh 28 Fernandes 48 Sher 51 Freymanis 53 Ogohlantirish Martinovich 25 Shavkat Mirziyoyev yangi Chevrolet Malibu avtomobilida shahar aylandi Ozbekiston Respublikasi Prezidenti Shavkat Mirziyoyev respublikada ishlab chiqariladigan Chevrolet Malibu avtomashinasini boshqarishni xush korishi tasdiqlandi Davlat rahbari 25 mart kuni Toshkent shahridagi qurilishi tugallangan va rejalashtirilayotgan inshootlarni borib kordi U Yunusobod tumanida qisqa fursatda qurilib foydalanishga topshirilgan koprikka Chevrolet Malibu avtomobilining yangi namunasida tashrif buyurdi Eslatib otamiz Shavkat Mirziyoyev qirgizistonlik hamkasbi Almazbek Atambayevning Samarqandga tashrifi chogida GM Uzbekistan kompaniyasi mahsulotlarini tanishtirar ekan dam olish kunlari Chevrolet Malibu avtomobilini haydashini aytgan edi Mourino nima sababdan Xorvatiya  Ukraina uchrashuviga borganini aytdi Manchester Yunayted bosh murabbiyi Joze Mourino JCh2018 saralash bosqichi doirasidagi Xorvatiya  Ukraina uchrashuviga 10 nima sababdan tashrif buyurgani sababini oshkor qildi Uchrashuvga tashrif buyurishimning hech qanday sirli tomoni yoq Shunchaki dam olish kunlarini mazmunli otkazish uchun Predrag Miyatovich va Davor Shuker kabi dostlarimni korgani bordim Kopchilik bunaqa tashrifni birorbir aniq futbolchini kuzatish uchun kelgan deb hisoblashini yaxshi bilaman Ammo bugungi kunda biror futbolchini kuzatish uchun begona yurtga borib yurishning hojati yoq Men shundoq ham ularni yaxshi bilaman Men Zagreb shunchaki Manchesterning yomgirli obhavosidan song yaxshi iqlim sharoitidan zavq olish uchungina tashrif buyurdim  degan Mourino HNTV telekanaliga bergan intervyusida'"
      ]
     },
     "execution_count": 24,
     "metadata": {},
     "output_type": "execute_result"
    }
   ],
   "source": [
    "df4"
   ]
  },
  {
   "cell_type": "markdown",
   "id": "99a4b138-75d2-446a-8114-dc6d4e7ecc4b",
   "metadata": {},
   "source": [
    "## 5. Lowercase all texts and Remove numbers"
   ]
  },
  {
   "cell_type": "code",
   "execution_count": 25,
   "id": "ac493a5f-2a38-4a95-9d90-0106252ff828",
   "metadata": {},
   "outputs": [],
   "source": [
    "def remove_numbers_lowercase(text):\n",
    "    text = text.lower()\n",
    "    newtext = re.sub(r'[0-9]+', '', text)\n",
    "    return newtext"
   ]
  },
  {
   "cell_type": "code",
   "execution_count": 26,
   "id": "bd48d3c8-bdef-46ed-8077-5ffafc3c699c",
   "metadata": {},
   "outputs": [],
   "source": [
    "df5 = remove_numbers_lowercase(df4)"
   ]
  },
  {
   "cell_type": "code",
   "execution_count": 27,
   "id": "d33c7e3a-d8f3-4cc4-bc57-cde367ed311c",
   "metadata": {},
   "outputs": [
    {
     "data": {
      "text/plain": [
       "'nbuosiyo  metallurg   gollar mirzakamol kamolov  abdulloh olimov   humoyun murtazoyev  shahzod shaymanov  andijon  neftchi   chetlatishlar ibrohim otaxonov   muzaffar muzaffarov  navbahor  xorazm   surxon  qoqon   yevropada saralash oyinlari davom ettirildi  yevropa mintaqasida jch yilda rossiyada bolib otadigan jahon chempionatiga saralash bosqichi beshinchi tur uchrashuvlari davom etmoqda kunning birinchi qismidan orin olgan beshta uchrashuv nihoyasiga yetdi bosniya terma jamoasi uyefaning songgi azolaridan biri gibraltar terma jamoasini qabul qilib javobsiz ta top kiritgan bolsa shvesiya belarus darvozasini  bor aniq nishonga oldi shuningdek shveysariya ogir kechgan uchrashuvda latviyadan ustun keldi yana ikki uchrashuvda durang natijasi qayd etildi jch saralash bosqichi yevropa mintaqasi gollar ibishevich   vrshayevich  vishcha  bichakchich  ogohlantirish kolashinas  ogohlantirishlar vasilyev  laban  shveysariya  latviya   ogohlantirishlar lazdinsh  fernandes  sher  freymanis  ogohlantirish martinovich  shavkat mirziyoyev yangi chevrolet malibu avtomobilida shahar aylandi ozbekiston respublikasi prezidenti shavkat mirziyoyev respublikada ishlab chiqariladigan chevrolet malibu avtomashinasini boshqarishni xush korishi tasdiqlandi davlat rahbari  mart kuni toshkent shahridagi qurilishi tugallangan va rejalashtirilayotgan inshootlarni borib kordi u yunusobod tumanida qisqa fursatda qurilib foydalanishga topshirilgan koprikka chevrolet malibu avtomobilining yangi namunasida tashrif buyurdi eslatib otamiz shavkat mirziyoyev qirgizistonlik hamkasbi almazbek atambayevning samarqandga tashrifi chogida gm uzbekistan kompaniyasi mahsulotlarini tanishtirar ekan dam olish kunlari chevrolet malibu avtomobilini haydashini aytgan edi mourino nima sababdan xorvatiya  ukraina uchrashuviga borganini aytdi manchester yunayted bosh murabbiyi joze mourino jch saralash bosqichi doirasidagi xorvatiya  ukraina uchrashuviga  nima sababdan tashrif buyurgani sababini oshkor qildi uchrashuvga tashrif buyurishimning hech qanday sirli tomoni yoq shunchaki dam olish kunlarini mazmunli otkazish uchun predrag miyatovich va davor shuker kabi dostlarimni korgani bordim kopchilik bunaqa tashrifni birorbir aniq futbolchini kuzatish uchun kelgan deb hisoblashini yaxshi bilaman ammo bugungi kunda biror futbolchini kuzatish uchun begona yurtga borib yurishning hojati yoq men shundoq ham ularni yaxshi bilaman men zagreb shunchaki manchesterning yomgirli obhavosidan song yaxshi iqlim sharoitidan zavq olish uchungina tashrif buyurdim  degan mourino hntv telekanaliga bergan intervyusida'"
      ]
     },
     "execution_count": 27,
     "metadata": {},
     "output_type": "execute_result"
    }
   ],
   "source": [
    "df5"
   ]
  }
 ],
 "metadata": {
  "kernelspec": {
   "display_name": "Python 3 (ipykernel)",
   "language": "python",
   "name": "python3"
  },
  "language_info": {
   "codemirror_mode": {
    "name": "ipython",
    "version": 3
   },
   "file_extension": ".py",
   "mimetype": "text/x-python",
   "name": "python",
   "nbconvert_exporter": "python",
   "pygments_lexer": "ipython3",
   "version": "3.9.7"
  }
 },
 "nbformat": 4,
 "nbformat_minor": 5
}
